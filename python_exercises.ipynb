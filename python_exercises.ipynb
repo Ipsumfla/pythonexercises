{
  "nbformat": 4,
  "nbformat_minor": 0,
  "metadata": {
    "colab": {
      "name": "python_exercises.ipynb",
      "provenance": [],
      "authorship_tag": "ABX9TyMEa138ED9rIWAcqovsFiL0",
      "include_colab_link": true
    },
    "kernelspec": {
      "name": "python3",
      "display_name": "Python 3"
    },
    "language_info": {
      "name": "python"
    }
  },
  "cells": [
    {
      "cell_type": "markdown",
      "metadata": {
        "id": "view-in-github",
        "colab_type": "text"
      },
      "source": [
        "<a href=\"https://colab.research.google.com/github/Ipsumfla/pythonexercises/blob/main/python_exercises.ipynb\" target=\"_parent\"><img src=\"https://colab.research.google.com/assets/colab-badge.svg\" alt=\"Open In Colab\"/></a>"
      ]
    },
    {
      "cell_type": "code",
      "source": [
        ""
      ],
      "metadata": {
        "id": "B5sv0ZCEwJkc"
      },
      "execution_count": null,
      "outputs": []
    },
    {
      "cell_type": "markdown",
      "source": [
        "# exercício 1"
      ],
      "metadata": {
        "id": "PaYY7tlRyK_-"
      }
    },
    {
      "cell_type": "code",
      "source": [
        "a=input('digite algo:')\n",
        "print('O tipo primitivo desse valor é', type(a))\n",
        "print('Só tem espaços?', a.isspace())\n",
        "print('É um número?', a.isnumeric())\n",
        "print('É alfabético?', a.isalpha())\n",
        "print('Está em maiuscula?', a.isupper())\n",
        "print('Está em minúscula?', a.islower())"
      ],
      "metadata": {
        "colab": {
          "base_uri": "https://localhost:8080/"
        },
        "id": "T_9FWf28wGF1",
        "outputId": "42e2401f-96dc-4aa8-8310-2c4c2a41ad04"
      },
      "execution_count": null,
      "outputs": [
        {
          "output_type": "stream",
          "name": "stdout",
          "text": [
            "digite algo:OLA\n",
            "O tipo primitivo desse valor é <class 'str'>\n",
            "Só tem espaços? False\n",
            "É um número? False\n",
            "É alfabético? True\n",
            "Está em maiuscula? True\n",
            "Está em minúscula? False\n"
          ]
        }
      ]
    }
  ]
}